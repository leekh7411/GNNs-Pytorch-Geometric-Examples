{
 "cells": [
  {
   "cell_type": "markdown",
   "metadata": {},
   "source": [
    "## **Advanced Mini-Batching**\n",
    "- In the image or language domain, this procedure is typically achieved by rescaling or padding each example into a set to equally-sized shapes\n",
    "- Since graphs are one of the most general data structures that can hold any number of nodes or edges\n",
    "- Adjacency matrices are stacked in a diagonal fashion (creating a giant graph that holds multiple isolated subgraphs)\n",
    "- PyTorch Geometric automatically takes care of batching multiple graphs into a single giant graph with the help of the **torch_geometric.data.DataLoader** class. \n",
    "    + Internally, torch_geometric.data.DataLoader is just a regular PyTorch DataLoader that overwrites its collate() functionality\n",
    "    + i.e., the definition of how a list of examples should be grouped together."
   ]
  },
  {
   "cell_type": "markdown",
   "metadata": {},
   "source": [
    "### **Pairs of Graphs**\n",
    "- In case you want to store multiple graphs in a single torch_geometric.data.Data object,\n",
    "- e.g., for applications such as graph matching, you need to ensure correct batching behaviour across all those graphs.\n",
    "- For example, consider storing two graphs, a source graph $G_s$ and a target graph $G_t$ in a torch_geometric.data.Data, e.g.:"
   ]
  },
  {
   "cell_type": "code",
   "execution_count": 3,
   "metadata": {},
   "outputs": [],
   "source": [
    "import torch\n",
    "from torch_geometric.data import DataLoader, Data\n",
    "\n",
    "class PairData(Data):\n",
    "    def __init__(self, edge_index_s, x_s, edge_index_t, x_t):\n",
    "        super(PairData, self).__init__()\n",
    "        self.edge_index_s = edge_index_s\n",
    "        self.x_s = x_s\n",
    "        self.edge_index_t = edge_index_t\n",
    "        self.x_t = x_t\n",
    "        \n",
    "    def __inc__(self, key, value):\n",
    "        if key == 'edge_index_s':\n",
    "            return self.x_s.size(0)\n",
    "        if key == 'edge_index_t':\n",
    "            return self.x_t.size(0)\n",
    "        else:\n",
    "            return super(PairData, self).__inc__(key, value)"
   ]
  },
  {
   "cell_type": "code",
   "execution_count": 7,
   "metadata": {},
   "outputs": [
    {
     "name": "stdout",
     "output_type": "stream",
     "text": [
      "- Source graph edge list size : torch.Size([2, 4])\n",
      "- Source graph node attr size : torch.Size([5, 16])\n",
      "- Target graph edge list size : torch.Size([2, 3])\n",
      "- Target graph node attr size : torch.Size([4, 16])\n"
     ]
    }
   ],
   "source": [
    "# Example Data\n",
    "edge_index_s = torch.tensor([\n",
    "    [0, 0, 0, 0],\n",
    "    [1, 2, 3, 4],\n",
    "])\n",
    "x_s = torch.randn(5, 16)  # 5 nodes.\n",
    "edge_index_t = torch.tensor([\n",
    "    [0, 0, 0],\n",
    "    [1, 2, 3],\n",
    "])\n",
    "x_t = torch.randn(4, 16)  # 4 nodes.\n",
    "print(\"- Source graph edge list size : {}\".format(edge_index_s.shape))\n",
    "print(\"- Source graph node attr size : {}\".format(x_s.shape))\n",
    "print(\"- Target graph edge list size : {}\".format(edge_index_t.shape))\n",
    "print(\"- Target graph node attr size : {}\".format(x_t.shape))"
   ]
  },
  {
   "cell_type": "code",
   "execution_count": 8,
   "metadata": {},
   "outputs": [
    {
     "name": "stdout",
     "output_type": "stream",
     "text": [
      "- Paired Data : PairData(edge_index_s=[2, 4], edge_index_t=[2, 3], x_s=[5, 16], x_t=[4, 16])\n"
     ]
    }
   ],
   "source": [
    "data = PairData(edge_index_s, x_s, edge_index_t, x_t)\n",
    "data_list = [data, data]\n",
    "print(\"- Paired Data : {}\".format(data))"
   ]
  },
  {
   "cell_type": "code",
   "execution_count": 9,
   "metadata": {},
   "outputs": [],
   "source": [
    "loader = DataLoader(data_list, batch_size=2)\n",
    "batch = next(iter(loader))"
   ]
  },
  {
   "cell_type": "code",
   "execution_count": 12,
   "metadata": {},
   "outputs": [
    {
     "name": "stdout",
     "output_type": "stream",
     "text": [
      "Batch(edge_index_s=[2, 8], edge_index_t=[2, 6], x_s=[10, 16], x_t=[8, 16])\n",
      "tensor([[0, 0, 0, 0, 5, 5, 5, 5],\n",
      "        [1, 2, 3, 4, 6, 7, 8, 9]])\n",
      "tensor([[0, 0, 0, 4, 4, 4],\n",
      "        [1, 2, 3, 5, 6, 7]])\n"
     ]
    }
   ],
   "source": [
    "print(batch)\n",
    "print(batch.edge_index_s)\n",
    "print(batch.edge_index_t)"
   ]
  },
  {
   "cell_type": "markdown",
   "metadata": {},
   "source": [
    "### **Bipartite Graphs**\n",
    "- In general, the number of nodes for each node type do not need to match, resulting in a non-quadratic adjacency matrix"
   ]
  },
  {
   "cell_type": "code",
   "execution_count": 14,
   "metadata": {},
   "outputs": [],
   "source": [
    "class BipartiteData(Data):\n",
    "    def __init__(self, edge_index, x_s, x_t):\n",
    "        super(BipartiteData, self).__init__()\n",
    "        self.edge_index = edge_index\n",
    "        self.x_s = x_s\n",
    "        self.x_t = x_t\n",
    "        \n",
    "    def __inc__(self, key, value):\n",
    "        if key == 'edge_index':\n",
    "            return torch.tensor([[self.x_s.size(0)], [self.x_t.size(0)]])\n",
    "        else:\n",
    "            return super(BipartiteData, self).__inc__(key, value)"
   ]
  },
  {
   "cell_type": "code",
   "execution_count": 18,
   "metadata": {},
   "outputs": [
    {
     "name": "stdout",
     "output_type": "stream",
     "text": [
      "- Source graph nodes : torch.Size([2, 16])\n",
      "- Target graph nodes : torch.Size([3, 16])\n",
      "- Bipartite graph data : BipartiteData(edge_index=[2, 4], x_s=[2, 16], x_t=[3, 16])\n"
     ]
    }
   ],
   "source": [
    "edge_index = torch.tensor([\n",
    "    [0, 0, 1, 1],\n",
    "    [0, 1, 1, 2],\n",
    "])\n",
    "x_s = torch.randn(2, 16)  # 2 nodes.\n",
    "x_t = torch.randn(3, 16)  # 3 nodes.\n",
    "\n",
    "data = BipartiteData(edge_index, x_s, x_t)\n",
    "data_list = [data, data]\n",
    "print(\"- Source graph nodes : {}\".format(x_s.shape))\n",
    "print(\"- Target graph nodes : {}\".format(x_t.shape))\n",
    "print(\"- Bipartite graph data : {}\".format(data))"
   ]
  },
  {
   "cell_type": "code",
   "execution_count": 23,
   "metadata": {},
   "outputs": [
    {
     "name": "stdout",
     "output_type": "stream",
     "text": [
      "- Bipartite graph batch example : Batch(batch=[6], edge_index=[2, 8], x_s=[4, 16], x_t=[6, 16])\n"
     ]
    }
   ],
   "source": [
    "loader = DataLoader(data_list, batch_size=2)\n",
    "batch = next(iter(loader))\n",
    "print(\"- Bipartite graph batch example : {}\".format(batch))"
   ]
  },
  {
   "cell_type": "code",
   "execution_count": 24,
   "metadata": {},
   "outputs": [
    {
     "name": "stdout",
     "output_type": "stream",
     "text": [
      "tensor([[0, 0, 1, 1, 2, 2, 3, 3],\n",
      "        [0, 1, 1, 2, 3, 4, 4, 5]])\n"
     ]
    }
   ],
   "source": [
    "print(batch.edge_index)"
   ]
  },
  {
   "cell_type": "code",
   "execution_count": null,
   "metadata": {},
   "outputs": [],
   "source": []
  },
  {
   "cell_type": "code",
   "execution_count": null,
   "metadata": {},
   "outputs": [],
   "source": []
  },
  {
   "cell_type": "code",
   "execution_count": null,
   "metadata": {},
   "outputs": [],
   "source": []
  },
  {
   "cell_type": "code",
   "execution_count": null,
   "metadata": {},
   "outputs": [],
   "source": []
  }
 ],
 "metadata": {
  "kernelspec": {
   "display_name": "Python 3",
   "language": "python",
   "name": "python3"
  },
  "language_info": {
   "codemirror_mode": {
    "name": "ipython",
    "version": 3
   },
   "file_extension": ".py",
   "mimetype": "text/x-python",
   "name": "python",
   "nbconvert_exporter": "python",
   "pygments_lexer": "ipython3",
   "version": "3.6.9"
  }
 },
 "nbformat": 4,
 "nbformat_minor": 4
}
