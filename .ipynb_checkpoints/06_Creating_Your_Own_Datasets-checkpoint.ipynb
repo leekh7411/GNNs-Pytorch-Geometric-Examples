{
 "cells": [
  {
   "cell_type": "markdown",
   "metadata": {},
   "source": [
    "## **Creating Your Own Datasets**\n",
    "- Two abstract classes for datasets are provided,\n",
    "    + torch_geometric.data.Dataset ([more info](https://pytorch-geometric.readthedocs.io/en/latest/modules/data.html#torch_geometric.data.Dataset))\n",
    "    + torch_geometric.data.InMemoryDataset ([more info](https://pytorch-geometric.readthedocs.io/en/latest/modules/data.html#torch_geometric.data.InMemoryDataset))\n",
    "- Following the torchvision convention, each dataset gets passed a root folder which indicates where the dataset should be stored. \n",
    "    + We split up the root folder into two folders: the raw_dir, where the dataset gets downloaded to, and the processed_dir, where the processed dataset is being saved.\n",
    "- Each dataset can be passed a **transform**, a **pre_transform** and a **pre_filter** function\n",
    "    + **Transform** : The transform function dynamically transforms the data object before accessing (so it is best used for data augmentation)\n",
    "    + **Pre-Transform** : he pre_transform function applies the transformation before saving the data objects to disk (so it is best used for heavy precomputation which needs to be **only done once**).\n",
    "    + **Pre-Filter** : The pre_filter function can manually filter out data objects before saving"
   ]
  },
  {
   "cell_type": "markdown",
   "metadata": {},
   "source": [
    "### **Creating \"In Memory Datasets\"**\n",
    "You need to implement four fundamental methods:\n",
    "#### torch_geometric.data.InMemoryDataset.***raw_file_names***():\n",
    "- A list of files in the raw_dir which needs to be found in order to skip the download.\n",
    "\n",
    "#### torch_geometric.data.InMemoryDataset.***processed_file_names***():\n",
    "- A list of files in the processed_dir which needs to be found in order to skip the processing.\n",
    "\n",
    "#### torch_geometric.data.InMemoryDataset.***download***():\n",
    "- Downloads raw data into raw_dir.\n",
    "\n",
    "#### torch_geometric.data.InMemoryDataset.***process***():\n",
    "- Processes raw data and saves it into the processed_dir.\n",
    "- We need to read and create a list of **torch_geometric.data.Data** objects and save it into the processed_dir.\n",
    "- Because saving a huge python list is really slow, we collate the list into one huge torch_geometric.data.\n",
    "- The data object via **torch_geometric.data.InMemoryDataset.collate()** before saving ."
   ]
  },
  {
   "cell_type": "code",
   "execution_count": 2,
   "metadata": {},
   "outputs": [],
   "source": [
    "import torch\n",
    "from torch_geometric.data import InMemoryDataset\n",
    "\n",
    "\n",
    "class MyOwnDataset(InMemoryDataset):\n",
    "    def __init__(self, root, transform=None, pre_transform=None):\n",
    "        super(MyOwnDataset, self).__init__(root, transform, pre_transform)\n",
    "        self.data, self.slices = torch.load(self.processed_paths[0])\n",
    "\n",
    "    @property\n",
    "    def raw_file_names(self):\n",
    "        return ['some_file_1', 'some_file_2', ...]\n",
    "\n",
    "    @property\n",
    "    def processed_file_names(self):\n",
    "        return ['data.pt']\n",
    "\n",
    "    def download(self):\n",
    "        # Download to `self.raw_dir`.\n",
    "        return\n",
    "\n",
    "    def process(self):\n",
    "        # Read data into huge `Data` list.\n",
    "        data_list = [...]\n",
    "\n",
    "        if self.pre_filter is not None:\n",
    "            data_list = [data for data in data_list if self.pre_filter(data)]\n",
    "\n",
    "        if self.pre_transform is not None:\n",
    "            data_list = [self.pre_transform(data) for data in data_list]\n",
    "\n",
    "        data, slices = self.collate(data_list)\n",
    "        torch.save((data, slices), self.processed_paths[0])"
   ]
  },
  {
   "cell_type": "markdown",
   "metadata": {},
   "source": [
    "### **Creating “Larger” Datasets**\n",
    "- For creating datasets which do not fit into memory, the torch_geometric.data.Dataset must be used, where we closely follow the concepts of the torchvision datasets.\n",
    "- The following methods need to be further implemented:\n",
    "\n",
    "#### torch_geometric.data.Dataset.len():\n",
    "- Returns the number of examples in your dataset.\n",
    "\n",
    "#### torch_geometric.data.Dataset.get():\n",
    "- Implements the logic to load a single graph.\n",
    "- Internally, torch_geometric.data.Dataset.$__getitem__$() gets data objects from torch_geometric.data.Dataset.get()"
   ]
  },
  {
   "cell_type": "code",
   "execution_count": 5,
   "metadata": {},
   "outputs": [],
   "source": [
    "import os.path as osp\n",
    "\n",
    "import torch\n",
    "from torch_geometric.data import Dataset\n",
    "\n",
    "\n",
    "class MyOwnDataset(Dataset):\n",
    "    def __init__(self, root, transform=None, pre_transform=None):\n",
    "        super(MyOwnDataset, self).__init__(root, transform, pre_transform)\n",
    "\n",
    "    @property\n",
    "    def raw_file_names(self):\n",
    "        return ['some_file_1', 'some_file_2', ...]\n",
    "\n",
    "    @property\n",
    "    def processed_file_names(self):\n",
    "        return ['data_1.pt', 'data_2.pt', ...]\n",
    "    \n",
    "    \"\"\"\n",
    "    \n",
    "    # IF YOU ALREADY DOWNLOADED DATASET OR PROCESSED,\n",
    "    # IF YOU DO NOT WANT TO RESTART THESE FUNCTIONS,\n",
    "    # JUST, DO NOT OVERRIDE BELOWS! \n",
    "    \n",
    "    def download(self):\n",
    "        # Download to `self.raw_dir`.\n",
    "        return\n",
    "    \n",
    "    def process(self):\n",
    "        i = 0\n",
    "        for raw_path in self.raw_paths:\n",
    "            # Read data from `raw_path`.\n",
    "            data = Data(...)\n",
    "\n",
    "            if self.pre_filter is not None and not self.pre_filter(data):\n",
    "                continue\n",
    "\n",
    "            if self.pre_transform is not None:\n",
    "                data = self.pre_transform(data)\n",
    "\n",
    "            torch.save(data, osp.join(self.processed_dir, 'data_{}.pt'.format(i)))\n",
    "            i += 1\n",
    "    \"\"\"\n",
    "    \n",
    "    # Added functions\n",
    "    def len(self):\n",
    "        return len(self.processed_file_names)\n",
    "    \n",
    "    # Added functions\n",
    "    def get(self, idx):\n",
    "        data = torch.load(osp.join(self.processed_dir, 'data_{}.pt'.format(idx)))\n",
    "        return data\n"
   ]
  },
  {
   "cell_type": "markdown",
   "metadata": {},
   "source": [
    "### **Simple Version**\n",
    "- Just initialize Data object your style\n",
    "- Append Data objects to the list, which is feeded to the DataLoader object "
   ]
  },
  {
   "cell_type": "code",
   "execution_count": 6,
   "metadata": {},
   "outputs": [],
   "source": [
    "from torch_geometric.data import Data, DataLoader\n",
    "\n",
    "data_list = [Data(...), ..., Data(...)]\n",
    "loader = DataLoader(data_list, batch_size=32)"
   ]
  },
  {
   "cell_type": "code",
   "execution_count": null,
   "metadata": {},
   "outputs": [],
   "source": []
  }
 ],
 "metadata": {
  "kernelspec": {
   "display_name": "Python 3",
   "language": "python",
   "name": "python3"
  },
  "language_info": {
   "codemirror_mode": {
    "name": "ipython",
    "version": 3
   },
   "file_extension": ".py",
   "mimetype": "text/x-python",
   "name": "python",
   "nbconvert_exporter": "python",
   "pygments_lexer": "ipython3",
   "version": "3.6.9"
  }
 },
 "nbformat": 4,
 "nbformat_minor": 4
}
