{
 "cells": [
  {
   "cell_type": "markdown",
   "metadata": {},
   "source": [
    "## **Pytorch-Geometric Benchmarks**\n",
    "- More deeply implements about default benchmark graph datasets of the pytorch-geometric"
   ]
  },
  {
   "cell_type": "code",
   "execution_count": 1,
   "metadata": {},
   "outputs": [],
   "source": [
    "import torch\n",
    "import numpy as np\n",
    "from torch_geometric.data import Data"
   ]
  },
  {
   "cell_type": "markdown",
   "metadata": {},
   "source": [
    "## **TUDataset**\n",
    "- A variety of graph kernel benchmark datasets, .e.g. **“IMDB-BINARY”**, **“REDDIT-BINARY”** or **“PROTEINS”**, collected from the TU Dortmund University. \n",
    "- This dataset wrapper provides cleaned dataset versions as motivated by the “Understanding Isomorphism Bias in Graph Data Sets” paper, **containing only non-isomorphic graphs**.\n",
    "- In this project, we will use the **PROTEINS** dataset for ***graph classification***"
   ]
  },
  {
   "cell_type": "code",
   "execution_count": 2,
   "metadata": {},
   "outputs": [],
   "source": [
    "from torch_geometric.datasets import TUDataset"
   ]
  },
  {
   "cell_type": "code",
   "execution_count": 3,
   "metadata": {},
   "outputs": [
    {
     "name": "stdout",
     "output_type": "stream",
     "text": [
      "PROTEINS_full(1113)\n",
      "Data(edge_index=[2, 162], x=[42, 32], y=[1])\n"
     ]
    }
   ],
   "source": [
    "dataset_PROTEINS_full = TUDataset(root='/tmp/PROTEINS_full', name='PROTEINS_full', use_node_attr=True, use_edge_attr=True)\n",
    "print(dataset_PROTEINS_full)\n",
    "print(dataset_PROTEINS_full[0])"
   ]
  },
  {
   "cell_type": "markdown",
   "metadata": {},
   "source": [
    "#### *Original Source Code of the Dataset*"
   ]
  },
  {
   "cell_type": "code",
   "execution_count": 4,
   "metadata": {},
   "outputs": [],
   "source": [
    "import os\n",
    "import os.path as osp\n",
    "import shutil\n",
    "import torch\n",
    "from torch_geometric.data import InMemoryDataset, download_url, extract_zip, DataLoader\n",
    "from torch_geometric.io import read_tu_data\n",
    "\n",
    "class TUDataset(InMemoryDataset):\n",
    "    r\"\"\"A variety of graph kernel benchmark datasets, *.e.g.* \"IMDB-BINARY\",\n",
    "    \"REDDIT-BINARY\" or \"PROTEINS\", collected from the `TU Dortmund University\n",
    "    <https://chrsmrrs.github.io/datasets>`_.\n",
    "    In addition, this dataset wrapper provides `cleaned dataset versions\n",
    "    <https://github.com/nd7141/graph_datasets>`_ as motivated by the\n",
    "    `\"Understanding Isomorphism Bias in Graph Data Sets\"\n",
    "    <https://arxiv.org/abs/1910.12091>`_ paper, containing only non-isomorphic\n",
    "    graphs.\n",
    "\n",
    "    .. note::\n",
    "        Some datasets may not come with any node labels.\n",
    "        You can then either make use of the argument :obj:`use_node_attr`\n",
    "        to load additional continuous node attributes (if present) or provide\n",
    "        synthetic node features using transforms such as\n",
    "        like :class:`torch_geometric.transforms.Constant` or\n",
    "        :class:`torch_geometric.transforms.OneHotDegree`.\n",
    "\n",
    "    Args:\n",
    "        root (string): Root directory where the dataset should be saved.\n",
    "        name (string): The `name\n",
    "            <https://chrsmrrs.github.io/datasets/docs/datasets/>`_ of the\n",
    "            dataset.\n",
    "        transform (callable, optional): A function/transform that takes in an\n",
    "            :obj:`torch_geometric.data.Data` object and returns a transformed\n",
    "            version. The data object will be transformed before every access.\n",
    "            (default: :obj:`None`)\n",
    "        pre_transform (callable, optional): A function/transform that takes in\n",
    "            an :obj:`torch_geometric.data.Data` object and returns a\n",
    "            transformed version. The data object will be transformed before\n",
    "            being saved to disk. (default: :obj:`None`)\n",
    "        pre_filter (callable, optional): A function that takes in an\n",
    "            :obj:`torch_geometric.data.Data` object and returns a boolean\n",
    "            value, indicating whether the data object should be included in the\n",
    "            final dataset. (default: :obj:`None`)\n",
    "        use_node_attr (bool, optional): If :obj:`True`, the dataset will\n",
    "            contain additional continuous node attributes (if present).\n",
    "            (default: :obj:`False`)\n",
    "        use_edge_attr (bool, optional): If :obj:`True`, the dataset will\n",
    "            contain additional continuous edge attributes (if present).\n",
    "            (default: :obj:`False`)\n",
    "        cleaned: (bool, optional): If :obj:`True`, the dataset will\n",
    "            contain only non-isomorphic graphs. (default: :obj:`False`)\n",
    "    \"\"\"\n",
    "\n",
    "    url = ('http://ls11-www.cs.tu-dortmund.de/people/morris/'\n",
    "           'graphkerneldatasets')\n",
    "    cleaned_url = ('https://raw.githubusercontent.com/nd7141/'\n",
    "                   'graph_datasets/master/datasets')\n",
    "\n",
    "    def __init__(self, root, name, transform=None, pre_transform=None,\n",
    "                 pre_filter=None, use_node_attr=False, use_edge_attr=False,\n",
    "                 cleaned=False):\n",
    "        self.name = name\n",
    "        self.cleaned = cleaned\n",
    "        super(TUDataset, self).__init__(root, transform, pre_transform,\n",
    "                                        pre_filter)\n",
    "        self.data, self.slices = torch.load(self.processed_paths[0])\n",
    "        if self.data.x is not None and not use_node_attr:\n",
    "            num_node_attributes = self.num_node_attributes\n",
    "            self.data.x = self.data.x[:, num_node_attributes:]\n",
    "        if self.data.edge_attr is not None and not use_edge_attr:\n",
    "            num_edge_attributes = self.num_edge_attributes\n",
    "            self.data.edge_attr = self.data.edge_attr[:, num_edge_attributes:]\n",
    "\n",
    "    @property\n",
    "    def raw_dir(self):\n",
    "        name = 'raw{}'.format('_cleaned' if self.cleaned else '')\n",
    "        return osp.join(self.root, self.name, name)\n",
    "\n",
    "    @property\n",
    "    def processed_dir(self):\n",
    "        name = 'processed{}'.format('_cleaned' if self.cleaned else '')\n",
    "        return osp.join(self.root, self.name, name)\n",
    "\n",
    "    @property\n",
    "    def num_node_labels(self):\n",
    "        if self.data.x is None:\n",
    "            return 0\n",
    "        for i in range(self.data.x.size(1)):\n",
    "            x = self.data.x[:, i:]\n",
    "            if ((x == 0) | (x == 1)).all() and (x.sum(dim=1) == 1).all():\n",
    "                return self.data.x.size(1) - i\n",
    "        return 0\n",
    "\n",
    "    @property\n",
    "    def num_node_attributes(self):\n",
    "        if self.data.x is None:\n",
    "            return 0\n",
    "        return self.data.x.size(1) - self.num_node_labels\n",
    "\n",
    "    @property\n",
    "    def num_edge_labels(self):\n",
    "        if self.data.edge_attr is None:\n",
    "            return 0\n",
    "        for i in range(self.data.edge_attr.size(1)):\n",
    "            if self.data.edge_attr[:, i:].sum() == self.data.edge_attr.size(0):\n",
    "                return self.data.edge_attr.size(1) - i\n",
    "        return 0\n",
    "\n",
    "    @property\n",
    "    def num_edge_attributes(self):\n",
    "        if self.data.edge_attr is None:\n",
    "            return 0\n",
    "        return self.data.edge_attr.size(1) - self.num_edge_labels\n",
    "\n",
    "    @property\n",
    "    def raw_file_names(self):\n",
    "        names = ['A', 'graph_indicator']\n",
    "        return ['{}_{}.txt'.format(self.name, name) for name in names]\n",
    "\n",
    "    @property\n",
    "    def processed_file_names(self):\n",
    "        return 'data.pt'\n",
    "\n",
    "    def download(self):\n",
    "        url = self.cleaned_url if self.cleaned else self.url\n",
    "        folder = osp.join(self.root, self.name)\n",
    "        path = download_url('{}/{}.zip'.format(url, self.name), folder)\n",
    "        extract_zip(path, folder)\n",
    "        os.unlink(path)\n",
    "        shutil.rmtree(self.raw_dir)\n",
    "        os.rename(osp.join(folder, self.name), self.raw_dir)\n",
    "\n",
    "    def process(self):\n",
    "        self.data, self.slices = read_tu_data(self.raw_dir, self.name)\n",
    "\n",
    "        if self.pre_filter is not None:\n",
    "            data_list = [self.get(idx) for idx in range(len(self))]\n",
    "            data_list = [data for data in data_list if self.pre_filter(data)]\n",
    "            self.data, self.slices = self.collate(data_list)\n",
    "\n",
    "        if self.pre_transform is not None:\n",
    "            data_list = [self.get(idx) for idx in range(len(self))]\n",
    "            data_list = [self.pre_transform(data) for data in data_list]\n",
    "            self.data, self.slices = self.collate(data_list)\n",
    "\n",
    "        torch.save((self.data, self.slices), self.processed_paths[0])\n",
    "\n",
    "    def __repr__(self):\n",
    "        return '{}({})'.format(self.name, len(self))"
   ]
  },
  {
   "cell_type": "code",
   "execution_count": 5,
   "metadata": {},
   "outputs": [
    {
     "name": "stdout",
     "output_type": "stream",
     "text": [
      "PROTEINS_full(1113)\n"
     ]
    }
   ],
   "source": [
    "dataset_PROTEINS_full = TUDataset(root='/tmp/PROTEINS_full', name='PROTEINS_full', use_node_attr=True, use_edge_attr=True)\n",
    "print(dataset_PROTEINS_full)"
   ]
  },
  {
   "cell_type": "code",
   "execution_count": 6,
   "metadata": {},
   "outputs": [
    {
     "name": "stdout",
     "output_type": "stream",
     "text": [
      "32\n"
     ]
    }
   ],
   "source": [
    "print(dataset_PROTEINS_full.num_node_features)"
   ]
  },
  {
   "cell_type": "code",
   "execution_count": 7,
   "metadata": {},
   "outputs": [
    {
     "name": "stdout",
     "output_type": "stream",
     "text": [
      "- number of trains : 779 / number of tests : 334\n"
     ]
    }
   ],
   "source": [
    "def init_train_test_mask(N, ratio=0.2):\n",
    "    mask_idx = np.arange(N)\n",
    "    num_train = int(N*ratio)\n",
    "    num_test  = N - num_train\n",
    "    np.random.shuffle(mask_idx)\n",
    "    train_idx = mask_idx[:num_train]\n",
    "    test_idx  = mask_idx[num_train:]\n",
    "    train_mask, test_mask = np.zeros(N), np.zeros(N)\n",
    "    train_mask[train_idx] = 1\n",
    "    test_mask[test_idx] = 1\n",
    "    train_mask = torch.tensor(train_mask, dtype=torch.bool)\n",
    "    test_mask = torch.tensor(test_mask, dtype=torch.bool)\n",
    "    print(\"- number of trains : {} / number of tests : {}\".format(num_train, num_test))\n",
    "    return train_mask, test_mask\n",
    "\n",
    "train_mask, test_mask = init_train_test_mask(N=len(dataset_PROTEINS_full), ratio=0.7)"
   ]
  },
  {
   "cell_type": "code",
   "execution_count": 8,
   "metadata": {},
   "outputs": [],
   "source": [
    "train_dataset = dataset_PROTEINS_full[train_mask]\n",
    "test_dataset  = dataset_PROTEINS_full[test_mask]"
   ]
  },
  {
   "cell_type": "code",
   "execution_count": 9,
   "metadata": {},
   "outputs": [],
   "source": [
    "train_loader = DataLoader(train_dataset, batch_size=32, shuffle=True)\n",
    "test_loader = DataLoader(train_dataset, batch_size=32, shuffle=True)"
   ]
  },
  {
   "cell_type": "markdown",
   "metadata": {},
   "source": [
    "#### *GNN model initialization - GCN* "
   ]
  },
  {
   "cell_type": "code",
   "execution_count": 10,
   "metadata": {},
   "outputs": [
    {
     "name": "stdout",
     "output_type": "stream",
     "text": [
      "Net(\n",
      "  (conv1): GCNConv(32, 256)\n",
      "  (conv2): GCNConv(256, 128)\n",
      "  (fc1): Linear(in_features=128, out_features=128, bias=True)\n",
      "  (fc2): Linear(in_features=128, out_features=2, bias=True)\n",
      ")\n"
     ]
    }
   ],
   "source": [
    "import torch.nn.functional as F\n",
    "from torch_geometric.nn import GCNConv, global_max_pool\n",
    "\n",
    "class Net(torch.nn.Module):\n",
    "    def __init__(self, num_node_features, num_classes):\n",
    "        super(Net, self).__init__()\n",
    "        self.hidden_dims = 256\n",
    "        self.conv1 = GCNConv(num_node_features, self.hidden_dims)\n",
    "        self.conv2 = GCNConv(self.hidden_dims, self.hidden_dims//2)\n",
    "        self.fc1 = torch.nn.Linear(self.hidden_dims//2, self.hidden_dims//2)\n",
    "        self.fc2 = torch.nn.Linear(self.hidden_dims//2, num_classes)\n",
    "        \n",
    "    def forward(self, data):\n",
    "        x, edge_index, batch = data.x, data.edge_index, data.batch\n",
    "        x = self.conv1(x, edge_index)\n",
    "        x = F.relu(x)\n",
    "        x = F.dropout(x, training=self.training)\n",
    "        x = self.conv2(x, edge_index)\n",
    "        x = F.relu(x)\n",
    "        x = F.dropout(x, training=self.training)\n",
    "        x = global_max_pool(x, batch)\n",
    "        x = self.fc1(x)\n",
    "        x = F.relu(x)\n",
    "        x = F.dropout(x, training=self.training)\n",
    "        x = self.fc2(x)\n",
    "        \n",
    "        return F.log_softmax(x, dim=1)\n",
    "    \n",
    "device = torch.device('cuda' if torch.cuda.is_available() else 'cpu')\n",
    "model = Net(num_node_features = dataset_PROTEINS_full.num_node_features, \n",
    "            num_classes       = dataset_PROTEINS_full.num_classes).to(device)\n",
    "print(model)"
   ]
  },
  {
   "cell_type": "markdown",
   "metadata": {},
   "source": [
    "#### *Prepare the model training*"
   ]
  },
  {
   "cell_type": "code",
   "execution_count": 11,
   "metadata": {},
   "outputs": [
    {
     "name": "stdout",
     "output_type": "stream",
     "text": [
      "Adam (\n",
      "Parameter Group 0\n",
      "    amsgrad: False\n",
      "    betas: (0.9, 0.999)\n",
      "    eps: 1e-08\n",
      "    lr: 0.001\n",
      "    weight_decay: 0.0005\n",
      ")\n"
     ]
    }
   ],
   "source": [
    "optimizer  = torch.optim.Adam(model.parameters(), lr=0.001, weight_decay=5e-4)\n",
    "print(optimizer)"
   ]
  },
  {
   "cell_type": "markdown",
   "metadata": {},
   "source": [
    "#### *Model training & evaluation*"
   ]
  },
  {
   "cell_type": "code",
   "execution_count": 12,
   "metadata": {},
   "outputs": [
    {
     "name": "stdout",
     "output_type": "stream",
     "text": [
      "- Epoch 0 / train loss : 194.36953735351562 / Test acc : 0.6059050064184852\n",
      "- Epoch 1 / train loss : 51.86308670043945 / Test acc : 0.6033376123234917\n",
      "- Epoch 2 / train loss : 22.777057647705078 / Test acc : 0.6623876765083441\n",
      "- Epoch 3 / train loss : 16.84926986694336 / Test acc : 0.631578947368421\n",
      "- Epoch 4 / train loss : 16.403932571411133 / Test acc : 0.675224646983312\n",
      "- Epoch 5 / train loss : 16.57914924621582 / Test acc : 0.668806161745828\n",
      "- Epoch 6 / train loss : 16.370304107666016 / Test acc : 0.6713735558408216\n",
      "- Epoch 7 / train loss : 15.296363830566406 / Test acc : 0.6854942233632862\n",
      "- Epoch 8 / train loss : 16.09405517578125 / Test acc : 0.686777920410783\n",
      "- Epoch 9 / train loss : 15.506176948547363 / Test acc : 0.693196405648267\n",
      "- Epoch 10 / train loss : 15.445551872253418 / Test acc : 0.6944801026957638\n",
      "- Epoch 11 / train loss : 15.12290096282959 / Test acc : 0.7021822849807445\n",
      "- Epoch 12 / train loss : 14.959329605102539 / Test acc : 0.7073170731707317\n",
      "- Epoch 13 / train loss : 14.950559616088867 / Test acc : 0.6803594351732991\n",
      "- Epoch 14 / train loss : 15.53355598449707 / Test acc : 0.7124518613607189\n",
      "- Epoch 15 / train loss : 14.872136116027832 / Test acc : 0.7021822849807445\n",
      "- Epoch 16 / train loss : 14.594849586486816 / Test acc : 0.6944801026957638\n",
      "- Epoch 17 / train loss : 14.537338256835938 / Test acc : 0.7163029525032092\n",
      "- Epoch 18 / train loss : 14.47126293182373 / Test acc : 0.6919127086007703\n",
      "- Epoch 19 / train loss : 14.308645248413086 / Test acc : 0.6957637997432606\n",
      "- Epoch 20 / train loss : 14.512899398803711 / Test acc : 0.6906290115532734\n",
      "- Epoch 21 / train loss : 14.354724884033203 / Test acc : 0.7278562259306803\n",
      "- Epoch 22 / train loss : 14.444241523742676 / Test acc : 0.7124518613607189\n",
      "- Epoch 23 / train loss : 14.258867263793945 / Test acc : 0.6957637997432606\n",
      "- Epoch 24 / train loss : 14.51542854309082 / Test acc : 0.7060333761232349\n",
      "- Epoch 25 / train loss : 14.287172317504883 / Test acc : 0.6431322207958922\n",
      "- Epoch 26 / train loss : 14.7368745803833 / Test acc : 0.7163029525032092\n",
      "- Epoch 27 / train loss : 14.047073364257812 / Test acc : 0.7252888318356868\n",
      "- Epoch 28 / train loss : 14.384659767150879 / Test acc : 0.7291399229781772\n",
      "- Epoch 29 / train loss : 14.384261131286621 / Test acc : 0.7175866495507061\n",
      "- Epoch 30 / train loss : 14.035258293151855 / Test acc : 0.7432605905006419\n",
      "- Epoch 31 / train loss : 14.5792818069458 / Test acc : 0.6893453145057766\n",
      "- Epoch 32 / train loss : 14.274131774902344 / Test acc : 0.7214377406931964\n",
      "- Epoch 33 / train loss : 14.183335304260254 / Test acc : 0.711168164313222\n",
      "- Epoch 34 / train loss : 14.03337287902832 / Test acc : 0.7432605905006419\n",
      "- Epoch 35 / train loss : 13.68395709991455 / Test acc : 0.7150192554557124\n",
      "- Epoch 36 / train loss : 13.937569618225098 / Test acc : 0.7163029525032092\n",
      "- Epoch 37 / train loss : 13.67868709564209 / Test acc : 0.7163029525032092\n",
      "- Epoch 38 / train loss : 13.683428764343262 / Test acc : 0.7124518613607189\n",
      "- Epoch 39 / train loss : 13.868865013122559 / Test acc : 0.7073170731707317\n",
      "- Epoch 40 / train loss : 13.930582046508789 / Test acc : 0.7098844672657253\n",
      "- Epoch 41 / train loss : 14.559372901916504 / Test acc : 0.7008985879332478\n",
      "- Epoch 42 / train loss : 13.868159294128418 / Test acc : 0.7060333761232349\n",
      "- Epoch 43 / train loss : 13.773547172546387 / Test acc : 0.7227214377406932\n",
      "- Epoch 44 / train loss : 14.484491348266602 / Test acc : 0.6944801026957638\n",
      "- Epoch 45 / train loss : 13.910958290100098 / Test acc : 0.7278562259306803\n",
      "- Epoch 46 / train loss : 13.582030296325684 / Test acc : 0.7265725288831836\n",
      "- Epoch 47 / train loss : 13.965612411499023 / Test acc : 0.7227214377406932\n",
      "- Epoch 48 / train loss : 13.657539367675781 / Test acc : 0.7329910141206675\n",
      "- Epoch 49 / train loss : 14.328168869018555 / Test acc : 0.7150192554557124\n",
      "- Epoch 50 / train loss : 13.911256790161133 / Test acc : 0.7265725288831836\n",
      "- Epoch 51 / train loss : 13.849428176879883 / Test acc : 0.711168164313222\n",
      "- Epoch 52 / train loss : 14.074882507324219 / Test acc : 0.7163029525032092\n",
      "- Epoch 53 / train loss : 13.771183967590332 / Test acc : 0.7098844672657253\n",
      "- Epoch 54 / train loss : 13.606745719909668 / Test acc : 0.7458279845956355\n",
      "- Epoch 55 / train loss : 13.351070404052734 / Test acc : 0.7201540436456996\n",
      "- Epoch 56 / train loss : 13.994930267333984 / Test acc : 0.7227214377406932\n",
      "- Epoch 57 / train loss : 14.060394287109375 / Test acc : 0.7227214377406932\n",
      "- Epoch 58 / train loss : 13.253241539001465 / Test acc : 0.7188703465982028\n",
      "- Epoch 59 / train loss : 13.906051635742188 / Test acc : 0.7265725288831836\n",
      "- Epoch 60 / train loss : 14.03719425201416 / Test acc : 0.699614890885751\n",
      "- Epoch 61 / train loss : 13.575276374816895 / Test acc : 0.7188703465982028\n",
      "- Epoch 62 / train loss : 13.595661163330078 / Test acc : 0.7086007702182285\n",
      "- Epoch 63 / train loss : 14.150601387023926 / Test acc : 0.7163029525032092\n",
      "- Epoch 64 / train loss : 13.349108695983887 / Test acc : 0.7214377406931964\n",
      "- Epoch 65 / train loss : 14.193363189697266 / Test acc : 0.7060333761232349\n",
      "- Epoch 66 / train loss : 13.894824981689453 / Test acc : 0.7252888318356868\n",
      "- Epoch 67 / train loss : 14.86164379119873 / Test acc : 0.72400513478819\n",
      "- Epoch 68 / train loss : 14.105378150939941 / Test acc : 0.7201540436456996\n",
      "- Epoch 69 / train loss : 13.393054962158203 / Test acc : 0.7201540436456996\n",
      "- Epoch 70 / train loss : 14.118123054504395 / Test acc : 0.7047496790757382\n",
      "- Epoch 71 / train loss : 14.000937461853027 / Test acc : 0.72400513478819\n",
      "- Epoch 72 / train loss : 13.681045532226562 / Test acc : 0.7137355584082157\n",
      "- Epoch 73 / train loss : 13.273037910461426 / Test acc : 0.7265725288831836\n",
      "- Epoch 74 / train loss : 14.32859992980957 / Test acc : 0.7137355584082157\n",
      "- Epoch 75 / train loss : 13.762137413024902 / Test acc : 0.7227214377406932\n",
      "- Epoch 76 / train loss : 13.565197944641113 / Test acc : 0.7175866495507061\n",
      "- Epoch 77 / train loss : 13.622236251831055 / Test acc : 0.7188703465982028\n",
      "- Epoch 78 / train loss : 13.69913387298584 / Test acc : 0.7086007702182285\n",
      "- Epoch 79 / train loss : 13.345030784606934 / Test acc : 0.7150192554557124\n",
      "- Epoch 80 / train loss : 13.746397018432617 / Test acc : 0.7098844672657253\n",
      "- Epoch 81 / train loss : 13.818825721740723 / Test acc : 0.6983311938382541\n",
      "- Epoch 82 / train loss : 13.125113487243652 / Test acc : 0.7201540436456996\n",
      "- Epoch 83 / train loss : 14.13897705078125 / Test acc : 0.7137355584082157\n",
      "- Epoch 84 / train loss : 12.988759994506836 / Test acc : 0.7073170731707317\n",
      "- Epoch 85 / train loss : 13.455947875976562 / Test acc : 0.711168164313222\n",
      "- Epoch 86 / train loss : 13.564702033996582 / Test acc : 0.7188703465982028\n",
      "- Epoch 87 / train loss : 13.397652626037598 / Test acc : 0.7265725288831836\n",
      "- Epoch 88 / train loss : 12.961472511291504 / Test acc : 0.7188703465982028\n",
      "- Epoch 89 / train loss : 13.390509605407715 / Test acc : 0.7265725288831836\n",
      "- Epoch 90 / train loss : 13.218487739562988 / Test acc : 0.7098844672657253\n",
      "- Epoch 91 / train loss : 13.605452537536621 / Test acc : 0.7278562259306803\n",
      "- Epoch 92 / train loss : 13.89250373840332 / Test acc : 0.7214377406931964\n",
      "- Epoch 93 / train loss : 13.570075035095215 / Test acc : 0.7201540436456996\n",
      "- Epoch 94 / train loss : 13.395466804504395 / Test acc : 0.7252888318356868\n",
      "- Epoch 95 / train loss : 13.116735458374023 / Test acc : 0.7201540436456996\n",
      "- Epoch 96 / train loss : 12.980437278747559 / Test acc : 0.730423620025674\n",
      "- Epoch 97 / train loss : 13.249847412109375 / Test acc : 0.7214377406931964\n",
      "- Epoch 98 / train loss : 12.979386329650879 / Test acc : 0.7252888318356868\n",
      "- Epoch 99 / train loss : 12.992342948913574 / Test acc : 0.7137355584082157\n"
     ]
    }
   ],
   "source": [
    "EPOCHS = 100\n",
    "for epoch in range(EPOCHS):\n",
    "    train_losses, test_losses = [], []\n",
    "    model.train()\n",
    "    for i, data in enumerate(train_loader):\n",
    "        optimizer.zero_grad()\n",
    "        out = model(data.to(device))\n",
    "        loss = F.nll_loss(out, data.y)\n",
    "        train_losses.append(loss)\n",
    "        loss.backward()\n",
    "        optimizer.step()\n",
    "    \n",
    "    num_corrects = 0\n",
    "    num_test_graphs = 0\n",
    "    for i, data in enumerate(test_loader):\n",
    "        _, pred = model(data.to(device)).max(dim=1)\n",
    "        correct = float(pred.eq(data.y).sum().item())\n",
    "        num_test_graphs += len(data.y)\n",
    "        num_corrects += correct\n",
    "    test_acc = num_corrects / num_test_graphs\n",
    "    \n",
    "    print(\"- Epoch {} / train loss : {} / Test acc : {}\".format(epoch, sum(train_losses), test_acc))\n",
    "    \n",
    "    "
   ]
  },
  {
   "cell_type": "code",
   "execution_count": null,
   "metadata": {},
   "outputs": [],
   "source": []
  },
  {
   "cell_type": "code",
   "execution_count": null,
   "metadata": {},
   "outputs": [],
   "source": []
  }
 ],
 "metadata": {
  "kernelspec": {
   "display_name": "Python 3",
   "language": "python",
   "name": "python3"
  },
  "language_info": {
   "codemirror_mode": {
    "name": "ipython",
    "version": 3
   },
   "file_extension": ".py",
   "mimetype": "text/x-python",
   "name": "python",
   "nbconvert_exporter": "python",
   "pygments_lexer": "ipython3",
   "version": "3.6.9"
  }
 },
 "nbformat": 4,
 "nbformat_minor": 4
}
