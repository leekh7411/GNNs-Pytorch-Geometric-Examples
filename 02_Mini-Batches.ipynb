{
 "cells": [
  {
   "cell_type": "markdown",
   "metadata": {},
   "source": [
    "## **Mini-Batches**\n",
    "Neural networks are usually trained in a batch-wise fashion.\n",
    "PyTorch Geometric achieves parallelization over a mini-batch by creating sparse block diagonal adjacency\n",
    "matrices (defined by edge_index and edge_attr) and concatenating feature and target matrices in the node dimension.\n",
    "\n",
    "### **Ex. Sparse block diagonal adjacency matrices**\n",
    "![enter image description here](https://user-images.githubusercontent.com/7347296/34198685-8c48e1d2-e56b-11e7-8ce6-64f1ba8a655c.png)"
   ]
  },
  {
   "cell_type": "code",
   "execution_count": 14,
   "metadata": {},
   "outputs": [],
   "source": [
    "from torch_geometric.datasets import TUDataset\n",
    "from torch_geometric.data import DataLoader\n",
    "from torch_scatter import scatter_mean"
   ]
  },
  {
   "cell_type": "code",
   "execution_count": 25,
   "metadata": {},
   "outputs": [],
   "source": [
    "dataset = TUDataset(root='/tmp/ENZYMES', name='ENZYMES', use_node_attr=True)\n",
    "loader = DataLoader(dataset, batch_size=128, shuffle=True)"
   ]
  },
  {
   "cell_type": "code",
   "execution_count": 26,
   "metadata": {},
   "outputs": [
    {
     "name": "stdout",
     "output_type": "stream",
     "text": [
      "> Batch 0 - Batch(batch=[4198], edge_index=[2, 15880], x=[4198, 21], y=[128]) / Num graphs : 128\n",
      "> Batch 1 - Batch(batch=[3984], edge_index=[2, 15376], x=[3984, 21], y=[128]) / Num graphs : 128\n",
      "> Batch 2 - Batch(batch=[4337], edge_index=[2, 16328], x=[4337, 21], y=[128]) / Num graphs : 128\n",
      "> Batch 3 - Batch(batch=[4171], edge_index=[2, 15806], x=[4171, 21], y=[128]) / Num graphs : 128\n",
      "> Batch 4 - Batch(batch=[2890], edge_index=[2, 11174], x=[2890, 21], y=[88]) / Num graphs : 88\n"
     ]
    }
   ],
   "source": [
    "for i, batch in enumerate(loader):\n",
    "    print(\"> Batch {} - {} / Num graphs : {}\".format(i, batch, batch.num_graphs))"
   ]
  },
  {
   "cell_type": "code",
   "execution_count": 27,
   "metadata": {},
   "outputs": [
    {
     "name": "stdout",
     "output_type": "stream",
     "text": [
      "> Batch 0 - Batch(batch=[3918], edge_index=[2, 15284], x=[3918, 21], y=[128])\n",
      "- Example - torch_scatter with dim=0\n",
      "- batch  x   : torch.Size([3918, 21])\n",
      "- batch info : torch.Size([3918])\n",
      "- scatter_mean : torch.Size([128, 21])\n",
      "> Batch 1 - Batch(batch=[4433], edge_index=[2, 16840], x=[4433, 21], y=[128])\n",
      "- Example - torch_scatter with dim=0\n",
      "- batch  x   : torch.Size([4433, 21])\n",
      "- batch info : torch.Size([4433])\n",
      "- scatter_mean : torch.Size([128, 21])\n",
      "> Batch 2 - Batch(batch=[4480], edge_index=[2, 16234], x=[4480, 21], y=[128])\n",
      "- Example - torch_scatter with dim=0\n",
      "- batch  x   : torch.Size([4480, 21])\n",
      "- batch info : torch.Size([4480])\n",
      "- scatter_mean : torch.Size([128, 21])\n",
      "> Batch 3 - Batch(batch=[3901], edge_index=[2, 15456], x=[3901, 21], y=[128])\n",
      "- Example - torch_scatter with dim=0\n",
      "- batch  x   : torch.Size([3901, 21])\n",
      "- batch info : torch.Size([3901])\n",
      "- scatter_mean : torch.Size([128, 21])\n",
      "> Batch 4 - Batch(batch=[2848], edge_index=[2, 10750], x=[2848, 21], y=[88])\n",
      "- Example - torch_scatter with dim=0\n",
      "- batch  x   : torch.Size([2848, 21])\n",
      "- batch info : torch.Size([2848])\n",
      "- scatter_mean : torch.Size([88, 21])\n"
     ]
    }
   ],
   "source": [
    "for i, data in enumerate(loader):\n",
    "    print(\"> Batch {} - {}\".format(i, data))\n",
    "    x = scatter_mean(data.x, data.batch, dim=0)\n",
    "    print(\"- Example - torch_scatter with dim=0\")\n",
    "    print(\"- batch  x   : {}\".format(data.x.shape))\n",
    "    print(\"- batch info : {}\".format(data.batch.shape))\n",
    "    print(\"- scatter_mean : {}\".format(x.shape))"
   ]
  },
  {
   "cell_type": "code",
   "execution_count": null,
   "metadata": {},
   "outputs": [],
   "source": []
  },
  {
   "cell_type": "code",
   "execution_count": null,
   "metadata": {},
   "outputs": [],
   "source": []
  }
 ],
 "metadata": {
  "kernelspec": {
   "display_name": "Python 3",
   "language": "python",
   "name": "python3"
  },
  "language_info": {
   "codemirror_mode": {
    "name": "ipython",
    "version": 3
   },
   "file_extension": ".py",
   "mimetype": "text/x-python",
   "name": "python",
   "nbconvert_exporter": "python",
   "pygments_lexer": "ipython3",
   "version": "3.6.9"
  }
 },
 "nbformat": 4,
 "nbformat_minor": 4
}
