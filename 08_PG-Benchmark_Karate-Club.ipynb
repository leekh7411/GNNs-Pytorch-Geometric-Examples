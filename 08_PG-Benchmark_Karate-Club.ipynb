{
 "cells": [
  {
   "cell_type": "markdown",
   "metadata": {},
   "source": [
    "## **Pytorch-Geometric Benchmarks**\n",
    "- More deeply implements about default benchmark graph datasets of the pytorch-geometric"
   ]
  },
  {
   "cell_type": "code",
   "execution_count": 36,
   "metadata": {},
   "outputs": [],
   "source": [
    "import torch\n",
    "import numpy as np\n",
    "from torch_geometric.data import Data"
   ]
  },
  {
   "cell_type": "markdown",
   "metadata": {},
   "source": [
    "## **Karate-Club**\n",
    "- Zachary’s karate club network from the “An Information Flow Model for Conflict and Fission in Small Groups” paper.\n",
    "- The graph containing **34 nodes**, connected by **154 (undirected and unweighted) edges**.\n",
    "- Every node is labeled by **one of two classes**.\n",
    "- ***Node classification problem***"
   ]
  },
  {
   "cell_type": "code",
   "execution_count": 3,
   "metadata": {},
   "outputs": [],
   "source": [
    "from torch_geometric.datasets import KarateClub"
   ]
  },
  {
   "cell_type": "code",
   "execution_count": 23,
   "metadata": {},
   "outputs": [
    {
     "name": "stdout",
     "output_type": "stream",
     "text": [
      "Zachary's Karate Club\n",
      "Data(edge_index=[2, 156], x=[34, 34], y=[34])\n"
     ]
    }
   ],
   "source": [
    "dataset_karateclub = KarateClub()\n",
    "dataset_karateclub = dataset_karateclub[0]\n",
    "print(dataset_karateclub)"
   ]
  },
  {
   "cell_type": "markdown",
   "metadata": {},
   "source": [
    "#### *Original Source Code of the Dataset*"
   ]
  },
  {
   "cell_type": "code",
   "execution_count": 20,
   "metadata": {},
   "outputs": [],
   "source": [
    "import numpy as np\n",
    "import networkx as nx\n",
    "from torch_geometric.data import InMemoryDataset, Data\n",
    "\n",
    "class KarateClub(InMemoryDataset):\n",
    "    r\"\"\"Zachary's karate club network from the `\"An Information Flow Model for\n",
    "    Conflict and Fission in Small Groups\"\n",
    "    <http://www1.ind.ku.dk/complexLearning/zachary1977.pdf>`_ paper, containing\n",
    "    34 nodes, connected by 154 (undirected and unweighted) edges.\n",
    "    Every node is labeled by one of two classes.\n",
    "\n",
    "    Args:\n",
    "        transform (callable, optional): A function/transform that takes in an\n",
    "            :obj:`torch_geometric.data.Data` object and returns a transformed\n",
    "            version. The data object will be transformed before every access.\n",
    "            (default: :obj:`None`)\n",
    "    \"\"\"\n",
    "    def __init__(self, transform=None):\n",
    "        super(KarateClub, self).__init__('.', transform, None, None)\n",
    "\n",
    "        G = nx.karate_club_graph() \n",
    "        print(G)\n",
    "        adj = nx.to_scipy_sparse_matrix(G).tocoo()\n",
    "        row = torch.from_numpy(adj.row.astype(np.int64)).to(torch.long)\n",
    "        col = torch.from_numpy(adj.col.astype(np.int64)).to(torch.long)\n",
    "        edge_index = torch.stack([row, col], dim=0)\n",
    "        data = Data(edge_index=edge_index)\n",
    "        data.num_nodes = edge_index.max().item() + 1\n",
    "        data.x = torch.eye(data.num_nodes, dtype=torch.float)\n",
    "        y = [0 if G.nodes[i]['club'] == 'Mr. Hi' else 1 for i in G.nodes]\n",
    "        data.y = torch.tensor(y)\n",
    "        self.data, self.slices = self.collate([data])\n",
    "\n",
    "    def _download(self):\n",
    "        return\n",
    "\n",
    "    def _process(self):\n",
    "        return\n",
    "\n",
    "    def __repr__(self):\n",
    "        return '{}()'.format(self.__class__.__name__)"
   ]
  },
  {
   "cell_type": "code",
   "execution_count": 30,
   "metadata": {},
   "outputs": [
    {
     "name": "stdout",
     "output_type": "stream",
     "text": [
      "Zachary's Karate Club\n",
      "Data(edge_index=[2, 156], x=[34, 34], y=[34])\n"
     ]
    }
   ],
   "source": [
    "dataset_karateclub = KarateClub()\n",
    "dataset_karateclub = dataset_karateclub[0]\n",
    "print(dataset_karateclub)"
   ]
  },
  {
   "cell_type": "markdown",
   "metadata": {},
   "source": [
    "#### *GNN model initialization - GCN* "
   ]
  },
  {
   "cell_type": "code",
   "execution_count": 62,
   "metadata": {},
   "outputs": [
    {
     "name": "stdout",
     "output_type": "stream",
     "text": [
      "Net(\n",
      "  (conv1): GCNConv(34, 16)\n",
      "  (conv2): GCNConv(16, 2)\n",
      ")\n"
     ]
    }
   ],
   "source": [
    "import torch.nn.functional as F\n",
    "from torch_geometric.nn import GCNConv\n",
    "\n",
    "class Net(torch.nn.Module):\n",
    "    def __init__(self, num_node_features, num_classes):\n",
    "        super(Net, self).__init__()\n",
    "        self.hidden_dims = 16\n",
    "        self.conv1 = GCNConv(num_node_features, self.hidden_dims)\n",
    "        self.conv2 = GCNConv(self.hidden_dims, num_classes)\n",
    "\n",
    "    def forward(self, data):\n",
    "        x, edge_index = data.x, data.edge_index\n",
    "\n",
    "        x = self.conv1(x, edge_index)\n",
    "        x = F.relu(x)\n",
    "        x = F.dropout(x, training=self.training)\n",
    "        x = self.conv2(x, edge_index)\n",
    "\n",
    "        return F.log_softmax(x, dim=1)\n",
    "    \n",
    "device = torch.device('cuda' if torch.cuda.is_available() else 'cpu')\n",
    "model = Net(num_node_features=34, num_classes=2).to(device)\n",
    "print(model)"
   ]
  },
  {
   "cell_type": "markdown",
   "metadata": {},
   "source": [
    "#### *Prepare the model training*"
   ]
  },
  {
   "cell_type": "code",
   "execution_count": 63,
   "metadata": {},
   "outputs": [
    {
     "name": "stdout",
     "output_type": "stream",
     "text": [
      "- number of nodes : 34 / number of labels : 34 (two have to same)\n"
     ]
    }
   ],
   "source": [
    "# Initialize the training and testing masks\n",
    "num_nodes = len(dataset_karateclub['x'])\n",
    "num_labels = len(dataset_karateclub['y'])\n",
    "print(\"- number of nodes : {} / number of labels : {} (two have to same)\".format(num_nodes, num_labels))"
   ]
  },
  {
   "cell_type": "code",
   "execution_count": 64,
   "metadata": {},
   "outputs": [
    {
     "name": "stdout",
     "output_type": "stream",
     "text": [
      "- number of trains : 10 / number of tests : 24\n"
     ]
    }
   ],
   "source": [
    "num_train = 10\n",
    "num_test  = num_nodes - (num_train)\n",
    "print(\"- number of trains : {} / number of tests : {}\".format(num_train, num_test))"
   ]
  },
  {
   "cell_type": "code",
   "execution_count": 65,
   "metadata": {},
   "outputs": [
    {
     "name": "stdout",
     "output_type": "stream",
     "text": [
      "- train mask index : [19 12 30 31  7 29 32 33 21 22]\n",
      "- test  mask index : [20 28 27 18 23 14  8 13  5 25  1 11  3  2  9  6 10  0 24 16  4 26 17 15]\n"
     ]
    }
   ],
   "source": [
    "mask_index = np.arange(num_nodes)\n",
    "np.random.shuffle(mask_index)\n",
    "train_mask_index = mask_index[:num_train]\n",
    "test_mask_index = mask_index[num_train:]\n",
    "print(\"- train mask index : {}\".format(train_mask_index))\n",
    "print(\"- test  mask index : {}\".format(test_mask_index))"
   ]
  },
  {
   "cell_type": "code",
   "execution_count": 66,
   "metadata": {},
   "outputs": [
    {
     "name": "stdout",
     "output_type": "stream",
     "text": [
      "- train mask : tensor([False, False, False, False, False, False, False,  True, False, False,\n",
      "        False, False,  True, False, False, False, False, False, False,  True,\n",
      "        False,  True,  True, False, False, False, False, False, False,  True,\n",
      "         True,  True,  True,  True])\n",
      "- test mask  : tensor([ True,  True,  True,  True,  True,  True,  True, False,  True,  True,\n",
      "         True,  True, False,  True,  True,  True,  True,  True,  True, False,\n",
      "         True, False, False,  True,  True,  True,  True,  True,  True, False,\n",
      "        False, False, False, False])\n"
     ]
    }
   ],
   "source": [
    "train_mask = np.zeros(num_nodes)\n",
    "test_mask = np.zeros(num_nodes)\n",
    "train_mask[train_mask_index] = 1\n",
    "test_mask[test_mask_index] = 1\n",
    "train_mask = torch.tensor(train_mask, dtype=torch.bool)\n",
    "test_mask = torch.tensor(test_mask, dtype=torch.bool)\n",
    "print(\"- train mask : {}\".format(train_mask))\n",
    "print(\"- test mask  : {}\".format(test_mask))"
   ]
  },
  {
   "cell_type": "code",
   "execution_count": 67,
   "metadata": {},
   "outputs": [
    {
     "name": "stdout",
     "output_type": "stream",
     "text": [
      "- number of trains : 11 / number of tests : 23\n"
     ]
    }
   ],
   "source": [
    "def init_train_test_mask(N, ratio=0.2):\n",
    "    mask_idx = np.arange(N)\n",
    "    num_train = int(N*ratio)\n",
    "    num_test  = N - num_train\n",
    "    np.random.shuffle(mask_idx)\n",
    "    train_idx = mask_idx[:num_train]\n",
    "    test_idx  = mask_idx[num_train:]\n",
    "    train_mask, test_mask = np.zeros(N), np.zeros(N)\n",
    "    train_mask[train_idx] = 1\n",
    "    test_mask[test_idx] = 1\n",
    "    train_mask = torch.tensor(train_mask, dtype=torch.bool)\n",
    "    test_mask = torch.tensor(test_mask, dtype=torch.bool)\n",
    "    print(\"- number of trains : {} / number of tests : {}\".format(num_train, num_test))\n",
    "    return train_mask, test_mask\n",
    "\n",
    "train_mask, test_mask = init_train_test_mask(num_nodes, ratio=0.35)"
   ]
  },
  {
   "cell_type": "code",
   "execution_count": 68,
   "metadata": {},
   "outputs": [],
   "source": [
    "dataset_karateclub['train_mask'] = train_mask\n",
    "dataset_karateclub['test_mask'] = test_mask"
   ]
  },
  {
   "cell_type": "code",
   "execution_count": 69,
   "metadata": {},
   "outputs": [
    {
     "name": "stdout",
     "output_type": "stream",
     "text": [
      "Data(edge_index=[2, 156], test_mask=[34], train_mask=[34], x=[34, 34], y=[34])\n"
     ]
    }
   ],
   "source": [
    "data = dataset_karateclub.to(device)\n",
    "optimizer = torch.optim.Adam(model.parameters(), lr=0.01, weight_decay=5e-4)\n",
    "print(data)"
   ]
  },
  {
   "cell_type": "markdown",
   "metadata": {},
   "source": [
    "#### *Model training & evaluation*"
   ]
  },
  {
   "cell_type": "code",
   "execution_count": 70,
   "metadata": {},
   "outputs": [
    {
     "name": "stdout",
     "output_type": "stream",
     "text": [
      "- Epoch 0 / Loss : 0.6804993748664856 / Test acc : 0.5217\n",
      "- Epoch 20 / Loss : 0.3717789351940155 / Test acc : 0.4783\n",
      "- Epoch 40 / Loss : 0.10899209976196289 / Test acc : 0.9130\n",
      "- Epoch 60 / Loss : 0.04007513448596001 / Test acc : 0.8696\n",
      "- Epoch 80 / Loss : 0.03131279721856117 / Test acc : 0.9130\n",
      "- Epoch 100 / Loss : 0.015178724192082882 / Test acc : 0.9130\n",
      "- Epoch 120 / Loss : 0.009972074069082737 / Test acc : 0.8261\n",
      "- Epoch 140 / Loss : 0.004040815401822329 / Test acc : 0.8696\n",
      "- Epoch 160 / Loss : 0.008372143842279911 / Test acc : 0.9130\n",
      "- Epoch 180 / Loss : 0.0061471895314753056 / Test acc : 0.8696\n"
     ]
    }
   ],
   "source": [
    "for epoch in range(200):\n",
    "    optimizer.zero_grad()\n",
    "    out = model(data)\n",
    "    loss = F.nll_loss(out[data.train_mask], data.y[data.train_mask])\n",
    "    if epoch % 20 == 0: \n",
    "        _, pred = model(data).max(dim=1)\n",
    "        correct = float(pred[data.test_mask].eq(data.y[data.test_mask]).sum().item())\n",
    "        acc = correct / data.test_mask.sum().item()\n",
    "        print(\"- Epoch {} / Loss : {} / Test acc : {:.4f}\".format(epoch, loss, acc))\n",
    "    loss.backward()\n",
    "    optimizer.step()"
   ]
  },
  {
   "cell_type": "code",
   "execution_count": null,
   "metadata": {},
   "outputs": [],
   "source": []
  }
 ],
 "metadata": {
  "kernelspec": {
   "display_name": "Python 3",
   "language": "python",
   "name": "python3"
  },
  "language_info": {
   "codemirror_mode": {
    "name": "ipython",
    "version": 3
   },
   "file_extension": ".py",
   "mimetype": "text/x-python",
   "name": "python",
   "nbconvert_exporter": "python",
   "pygments_lexer": "ipython3",
   "version": "3.6.9"
  }
 },
 "nbformat": 4,
 "nbformat_minor": 4
}
