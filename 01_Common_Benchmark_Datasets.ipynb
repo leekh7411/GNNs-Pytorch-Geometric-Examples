{
 "cells": [
  {
   "cell_type": "markdown",
   "metadata": {},
   "source": [
    "## **Common Benchmark Datasets**\n",
    "PyTorch Geometric contains a large number of common benchmark datasets, e.g. all Planetoid datasets (Cora, Citeseer, Pubmed), all graph classification datasets from http://graphkernels.cs.tu-dortmund.de/ and their cleaned versions, the QM7 and QM9 dataset, and a handful of 3D mesh/point cloud datasets like FAUST, ModelNet10/40 and ShapeNet."
   ]
  },
  {
   "cell_type": "code",
   "execution_count": 23,
   "metadata": {},
   "outputs": [],
   "source": [
    "import torch\n",
    "from torch_geometric.data import Data\n",
    "from torch_geometric.datasets import TUDataset\n",
    "from torch_geometric.datasets import Planetoid"
   ]
  },
  {
   "cell_type": "markdown",
   "metadata": {},
   "source": [
    "### **ENZYMES dataset**\n",
    "- Total 600 graphs exists\n",
    "- The graphs are classified 6 classes"
   ]
  },
  {
   "cell_type": "code",
   "execution_count": 39,
   "metadata": {},
   "outputs": [],
   "source": [
    "# Load ENZYMES graph dataset \n",
    "# consisting of 600 graphs within 6 classes\n",
    "dataset = TUDataset(root='/tmp/ENZYMES', name='ENZYMES')"
   ]
  },
  {
   "cell_type": "code",
   "execution_count": 40,
   "metadata": {},
   "outputs": [],
   "source": [
    "def summary_torch_geometric_data(data):\n",
    "    # Print data keys\n",
    "    print(\"- Keys of the data : {}\".format(data.keys))\n",
    "    # Print feature of node\n",
    "    print(\"- Feature of nodes : {}\".format(data['x']))\n",
    "    print(\"- Labels (y) : {}\".format(data['y']))\n",
    "    print(\"- Edge indices : {}\".format(data['edge_index']))\n",
    "    # For loop like dict.items()\n",
    "    for key, item in data:\n",
    "        print(\"- {} found in data\".format(key))\n",
    "    # Checking whether contains given keys\n",
    "    # Print number of the graph nodes\n",
    "    print(\"- Number of nodes : {}\".format(data.num_nodes))\n",
    "    print(\"- Number of edges : {}\".format(data.num_edges))\n",
    "    # Print number of the node features\n",
    "    print(\"- Number of node features : {}\".format(data.num_node_features))\n",
    "    # Check isolated nodes in the graph given\n",
    "    print(\"- Does the graph contains isolated nodes? : {}\".format(data.contains_isolated_nodes()))\n",
    "    # Check self loop node exists\n",
    "    print(\"- Does the graph contains self-loop nodes? : {}\".format(data.contains_self_loops()))\n",
    "    # Check whether the graph is directed graph of not\n",
    "    print(\"- Is the graph directed ? : {}\".format(data.is_directed()))"
   ]
  },
  {
   "cell_type": "code",
   "execution_count": 41,
   "metadata": {},
   "outputs": [
    {
     "name": "stdout",
     "output_type": "stream",
     "text": [
      "- number of dataset graphs : 600\n"
     ]
    }
   ],
   "source": [
    "print(\"- number of dataset graphs : {}\".format(len(dataset)))"
   ]
  },
  {
   "cell_type": "code",
   "execution_count": 42,
   "metadata": {},
   "outputs": [
    {
     "name": "stdout",
     "output_type": "stream",
     "text": [
      "Data(edge_index=[2, 168], x=[37, 3], y=[1])\n"
     ]
    }
   ],
   "source": [
    "print(dataset[0])"
   ]
  },
  {
   "cell_type": "code",
   "execution_count": 22,
   "metadata": {},
   "outputs": [
    {
     "name": "stdout",
     "output_type": "stream",
     "text": [
      "- Keys of the data : ['x', 'edge_index', 'y']\n",
      "- Feature of nodes : tensor([[1., 0., 0.],\n",
      "        [1., 0., 0.],\n",
      "        [1., 0., 0.],\n",
      "        [1., 0., 0.],\n",
      "        [1., 0., 0.],\n",
      "        [1., 0., 0.],\n",
      "        [1., 0., 0.],\n",
      "        [1., 0., 0.],\n",
      "        [1., 0., 0.],\n",
      "        [1., 0., 0.],\n",
      "        [1., 0., 0.],\n",
      "        [1., 0., 0.],\n",
      "        [1., 0., 0.],\n",
      "        [1., 0., 0.],\n",
      "        [1., 0., 0.],\n",
      "        [1., 0., 0.],\n",
      "        [1., 0., 0.],\n",
      "        [1., 0., 0.],\n",
      "        [1., 0., 0.],\n",
      "        [1., 0., 0.],\n",
      "        [1., 0., 0.],\n",
      "        [1., 0., 0.],\n",
      "        [1., 0., 0.],\n",
      "        [1., 0., 0.],\n",
      "        [1., 0., 0.],\n",
      "        [1., 0., 0.],\n",
      "        [1., 0., 0.],\n",
      "        [1., 0., 0.],\n",
      "        [1., 0., 0.],\n",
      "        [1., 0., 0.],\n",
      "        [0., 1., 0.],\n",
      "        [0., 1., 0.],\n",
      "        [0., 1., 0.],\n",
      "        [0., 1., 0.],\n",
      "        [0., 1., 0.],\n",
      "        [0., 1., 0.],\n",
      "        [0., 1., 0.],\n",
      "        [0., 1., 0.],\n",
      "        [0., 1., 0.],\n",
      "        [0., 1., 0.],\n",
      "        [0., 1., 0.],\n",
      "        [0., 1., 0.],\n",
      "        [0., 1., 0.],\n",
      "        [0., 1., 0.],\n",
      "        [0., 1., 0.],\n",
      "        [0., 1., 0.],\n",
      "        [0., 1., 0.],\n",
      "        [0., 1., 0.]])\n",
      "- Labels (y) : tensor([1])\n",
      "- Edge indices : tensor([[ 0,  0,  0,  0,  1,  1,  1,  1,  1,  2,  2,  2,  2,  3,  3,  3,  4,  4,\n",
      "          4,  5,  5,  5,  5,  6,  6,  6,  6,  6,  6,  7,  7,  7,  7,  7,  7,  8,\n",
      "          8,  8,  8,  8,  8,  8,  9,  9,  9, 10, 10, 10, 10, 11, 11, 11, 11, 11,\n",
      "         12, 12, 12, 13, 13, 13, 13, 13, 14, 14, 15, 15, 15, 16, 16, 16, 17, 17,\n",
      "         17, 17, 17, 18, 18, 18, 18, 19, 19, 19, 19, 20, 20, 20, 20, 21, 21, 21,\n",
      "         21, 21, 22, 22, 22, 22, 23, 23, 23, 23, 24, 24, 24, 24, 25, 25, 25, 26,\n",
      "         26, 26, 26, 27, 27, 27, 27, 28, 28, 28, 28, 29, 29, 29, 30, 30, 30, 31,\n",
      "         31, 31, 31, 31, 32, 32, 32, 32, 32, 33, 33, 33, 34, 34, 34, 35, 35, 35,\n",
      "         35, 36, 36, 36, 36, 37, 37, 37, 38, 38, 38, 38, 39, 39, 39, 40, 40, 40,\n",
      "         40, 41, 41, 41, 41, 42, 42, 42, 43, 43, 43, 44, 44, 44, 44, 45, 45, 45,\n",
      "         45, 46, 46, 46, 47, 47, 47, 47],\n",
      "        [ 1,  2, 16, 30,  0,  2, 17, 31, 32,  0,  1, 32, 34,  4, 19, 33,  3,  5,\n",
      "          6,  4,  6,  7, 35,  4,  5,  7,  8, 35, 36,  5,  6,  8,  9, 36, 37,  6,\n",
      "          7,  9, 10, 23, 24, 38,  7,  8, 10,  8,  9, 11, 23, 10, 12, 26, 27, 29,\n",
      "         11, 13, 25, 12, 14, 15, 26, 28, 13, 15, 13, 14, 28,  0, 17, 39,  1, 16,\n",
      "         18, 41, 43, 17, 19, 20, 42,  3, 18, 20, 21, 18, 19, 21, 44, 19, 20, 22,\n",
      "         44, 45, 21, 23, 24, 47,  8, 10, 22, 24,  8, 22, 23, 25, 12, 24, 26, 11,\n",
      "         13, 25, 27, 11, 26, 28, 29, 13, 15, 27, 29, 11, 27, 28,  0, 31, 40,  1,\n",
      "         30, 32, 39, 41,  1,  2, 31, 40, 41,  3, 34, 43,  2, 33, 42,  5,  6, 36,\n",
      "         45,  6,  7, 35, 44,  7, 38, 47,  8, 37, 46, 47, 16, 31, 40, 30, 32, 39,\n",
      "         41, 17, 31, 32, 40, 18, 34, 43, 17, 33, 42, 20, 21, 36, 45, 21, 35, 44,\n",
      "         46, 38, 45, 47, 22, 37, 38, 46]])\n",
      "- edge_index found in data\n",
      "- x found in data\n",
      "- y found in data\n",
      "- Number of nodes : 48\n",
      "- Number of edges : 188\n",
      "- Number of node features : 3\n",
      "- Does the graph contains isolated nodes? : False\n",
      "- Does the graph contains self-loop nodes? : False\n",
      "- Is the graph directed ? : False\n"
     ]
    }
   ],
   "source": [
    "summary_torch_geometric_data(dataset[0])"
   ]
  },
  {
   "cell_type": "code",
   "execution_count": 19,
   "metadata": {},
   "outputs": [
    {
     "name": "stdout",
     "output_type": "stream",
     "text": [
      "- train dataset : ENZYMES(540)\n",
      "- test dataset  : ENZYMES(60)\n"
     ]
    }
   ],
   "source": [
    "# Example - Train, Test split\n",
    "dataset = dataset.shuffle()\n",
    "train_dataset = dataset[:540]\n",
    "test_dataset  = dataset[540:]\n",
    "print(\"- train dataset : {}\".format(train_dataset))\n",
    "print(\"- test dataset  : {}\".format(test_dataset))"
   ]
  },
  {
   "cell_type": "markdown",
   "metadata": {},
   "source": [
    "### **Cora dataset**\n",
    "- Single large graph dataset\n",
    "- Total 7 classes exist in each node\n",
    "- Total 1433 features exist in each node\n",
    "- Undirected citation graph"
   ]
  },
  {
   "cell_type": "code",
   "execution_count": 24,
   "metadata": {},
   "outputs": [
    {
     "name": "stdout",
     "output_type": "stream",
     "text": [
      "Downloading https://github.com/kimiyoung/planetoid/raw/master/data/ind.cora.x\n",
      "Downloading https://github.com/kimiyoung/planetoid/raw/master/data/ind.cora.tx\n",
      "Downloading https://github.com/kimiyoung/planetoid/raw/master/data/ind.cora.allx\n",
      "Downloading https://github.com/kimiyoung/planetoid/raw/master/data/ind.cora.y\n",
      "Downloading https://github.com/kimiyoung/planetoid/raw/master/data/ind.cora.ty\n",
      "Downloading https://github.com/kimiyoung/planetoid/raw/master/data/ind.cora.ally\n",
      "Downloading https://github.com/kimiyoung/planetoid/raw/master/data/ind.cora.graph\n",
      "Downloading https://github.com/kimiyoung/planetoid/raw/master/data/ind.cora.test.index\n",
      "Processing...\n",
      "Done!\n"
     ]
    }
   ],
   "source": [
    "CORA = Planetoid(root='/tmp/Cora', name='Cora')"
   ]
  },
  {
   "cell_type": "code",
   "execution_count": 26,
   "metadata": {},
   "outputs": [
    {
     "name": "stdout",
     "output_type": "stream",
     "text": [
      "Data(edge_index=[2, 10556], test_mask=[2708], train_mask=[2708], val_mask=[2708], x=[2708, 1433], y=[2708])\n",
      "- Keys of the data : ['x', 'edge_index', 'y', 'train_mask', 'val_mask', 'test_mask']\n",
      "- Feature of nodes : tensor([[0., 0., 0.,  ..., 0., 0., 0.],\n",
      "        [0., 0., 0.,  ..., 0., 0., 0.],\n",
      "        [0., 0., 0.,  ..., 0., 0., 0.],\n",
      "        ...,\n",
      "        [0., 0., 0.,  ..., 0., 0., 0.],\n",
      "        [0., 0., 0.,  ..., 0., 0., 0.],\n",
      "        [0., 0., 0.,  ..., 0., 0., 0.]])\n",
      "- Labels (y) : tensor([3, 4, 4,  ..., 3, 3, 3])\n",
      "- Edge indices : tensor([[   0,    0,    0,  ..., 2707, 2707, 2707],\n",
      "        [ 633, 1862, 2582,  ...,  598, 1473, 2706]])\n",
      "- edge_index found in data\n",
      "- test_mask found in data\n",
      "- train_mask found in data\n",
      "- val_mask found in data\n",
      "- x found in data\n",
      "- y found in data\n",
      "- Number of nodes : 2708\n",
      "- Number of edges : 10556\n",
      "- Number of node features : 1433\n",
      "- Does the graph contains isolated nodes? : False\n",
      "- Does the graph contains self-loop nodes? : False\n",
      "- Is the graph directed ? : False\n"
     ]
    }
   ],
   "source": [
    "CORA_data = CORA[0]\n",
    "print(CORA_data)\n",
    "summary_torch_geometric_data(CORA_data)"
   ]
  },
  {
   "cell_type": "code",
   "execution_count": 34,
   "metadata": {},
   "outputs": [
    {
     "name": "stdout",
     "output_type": "stream",
     "text": [
      "- tensor([ True,  True,  True,  ..., False, False, False])\n",
      "- length of train mask : 140\n"
     ]
    }
   ],
   "source": [
    "print(\"- {}\".format(CORA_data['train_mask']))\n",
    "print(\"- length of train mask : {}\".format(sum(CORA_data['train_mask'])))"
   ]
  },
  {
   "cell_type": "code",
   "execution_count": 36,
   "metadata": {},
   "outputs": [
    {
     "name": "stdout",
     "output_type": "stream",
     "text": [
      "- tensor([False, False, False,  ..., False, False, False])\n",
      "- length of val mask : 500\n"
     ]
    }
   ],
   "source": [
    "print(\"- {}\".format(CORA_data['val_mask']))\n",
    "print(\"- length of val mask : {}\".format(sum(CORA_data['val_mask'])))"
   ]
  },
  {
   "cell_type": "code",
   "execution_count": 37,
   "metadata": {},
   "outputs": [
    {
     "name": "stdout",
     "output_type": "stream",
     "text": [
      "- tensor([False, False, False,  ...,  True,  True,  True])\n",
      "- length of test mask : 1000\n"
     ]
    }
   ],
   "source": [
    "print(\"- {}\".format(CORA_data['test_mask']))\n",
    "print(\"- length of test mask : {}\".format(sum(CORA_data['test_mask'])))"
   ]
  },
  {
   "cell_type": "code",
   "execution_count": null,
   "metadata": {},
   "outputs": [],
   "source": []
  }
 ],
 "metadata": {
  "kernelspec": {
   "display_name": "Python 3",
   "language": "python",
   "name": "python3"
  },
  "language_info": {
   "codemirror_mode": {
    "name": "ipython",
    "version": 3
   },
   "file_extension": ".py",
   "mimetype": "text/x-python",
   "name": "python",
   "nbconvert_exporter": "python",
   "pygments_lexer": "ipython3",
   "version": "3.6.9"
  }
 },
 "nbformat": 4,
 "nbformat_minor": 4
}
