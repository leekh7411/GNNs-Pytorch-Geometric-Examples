{
 "cells": [
  {
   "cell_type": "markdown",
   "metadata": {},
   "source": [
    "## **Data Handling of Graphs**\n",
    "A graph is used to model pairwise relations (edges) between objects (nodes). A single graph in PyTorch Geometric is described by an instance of torch_geometric.data.Data, which holds the following attributes by default:\n",
    "\n",
    "- data.x: Node feature matrix with shape [num_nodes, num_node_features]\n",
    "- data.edge_index: Graph connectivity in COO format with shape [2, num_edges] and type torch.long\n",
    "- data.edge_attr: Edge feature matrix with shape [num_edges, num_edge_features]\n",
    "- data.y: Target to train against (may have arbitrary shape), e.g., node-level targets of shape [num_nodes, *] or graph-level targets of shape [1, *]\n",
    "- data.pos: Node position matrix with shape [num_nodes, num_dimensions]\n",
    "\n",
    "None of these attributes is required. In fact, the Data object is not even restricted to these attributes. We can, e.g., extend it by data.face to save the connectivity of triangles from a 3D mesh in a tensor with shape [3, num_faces] and type torch.long."
   ]
  },
  {
   "cell_type": "code",
   "execution_count": 1,
   "metadata": {},
   "outputs": [],
   "source": [
    "import torch\n",
    "from torch_geometric.data import Data"
   ]
  },
  {
   "cell_type": "markdown",
   "metadata": {},
   "source": [
    "### **Edge List (Type-A)**"
   ]
  },
  {
   "cell_type": "code",
   "execution_count": 10,
   "metadata": {},
   "outputs": [
    {
     "name": "stdout",
     "output_type": "stream",
     "text": [
      "- shape of the edge index : torch.Size([2, 4])\n",
      "- shape of the node features : torch.Size([3, 1])\n",
      "- data : Data(edge_index=[2, 4], x=[3, 1])\n"
     ]
    }
   ],
   "source": [
    "# Graph connectivity in COO format with shape [2, num_edges] and type torch.long\n",
    "edge_index = torch.tensor([[0, 1, 1, 2],[1, 0, 2, 1]], dtype=torch.long)\n",
    "\n",
    "# Node feature matrix with shape [num_nodes, num_node_features]\n",
    "x = torch.tensor([[-1], [0], [1]], dtype=torch.float)\n",
    "\n",
    "data = Data(x=x, edge_index=edge_index)\n",
    "\n",
    "print(\"- shape of the edge index : {}\".format(edge_index.shape))\n",
    "print(\"- shape of the node features : {}\".format(x.shape))\n",
    "print(\"- data : {}\".format(data))"
   ]
  },
  {
   "cell_type": "markdown",
   "metadata": {},
   "source": [
    "### **Edge List (Type-B)**"
   ]
  },
  {
   "cell_type": "code",
   "execution_count": 11,
   "metadata": {},
   "outputs": [
    {
     "name": "stdout",
     "output_type": "stream",
     "text": [
      "- shape of the edge index : torch.Size([4, 2])\n",
      "- shape of the node features : torch.Size([3, 1])\n",
      "- data : Data(edge_index=[2, 4], x=[3, 1])\n"
     ]
    }
   ],
   "source": [
    "edge_index = torch.tensor([[0, 1],\n",
    "                           [1, 0],\n",
    "                           [1, 2],\n",
    "                           [2, 1]], dtype=torch.long)\n",
    "x = torch.tensor([[-1], [0], [1]], dtype=torch.float)\n",
    "\n",
    "data = Data(x=x, edge_index=edge_index.t().contiguous()) # you have to set the 'contiguos()' given edgelist type\n",
    "\n",
    "print(\"- shape of the edge index : {}\".format(edge_index.shape))\n",
    "print(\"- shape of the node features : {}\".format(x.shape))\n",
    "print(\"- data : {}\".format(data))"
   ]
  },
  {
   "cell_type": "markdown",
   "metadata": {},
   "source": [
    "### **Utility functions of torch_geometric.data.Data**\n",
    "- Print data keys\n",
    "- Print feature of node\n",
    "- For loop like dict.items()\n",
    "- Checking whether contains given keys\n",
    "- Print number of the graph nodes\n",
    "- Print number of the node features\n",
    "- Print number of nodes\n",
    "- Print number of edges\n",
    "- Check isolated nodes in the graph given\n",
    "- Check self loop node exists\n",
    "- Check whether the graph is directed graph of not"
   ]
  },
  {
   "cell_type": "code",
   "execution_count": 16,
   "metadata": {},
   "outputs": [
    {
     "name": "stdout",
     "output_type": "stream",
     "text": [
      "- Keys of the data : ['x', 'edge_index']\n",
      "- Feature of nodes : tensor([[-1.],\n",
      "        [ 0.],\n",
      "        [ 1.]])\n",
      "- edge_index found in data\n",
      "- x found in data\n",
      "- Number of nodes : 3\n",
      "- Number of edges : 4\n",
      "- Number of node features : 1\n",
      "- Does the graph contains isolated nodes? : False\n",
      "- Does the graph contains self-loop nodes? : False\n",
      "- Is the graph directed ? : False\n"
     ]
    }
   ],
   "source": [
    "def summary_torch_geometric_data(data):\n",
    "    # Print data keys\n",
    "    print(\"- Keys of the data : {}\".format(data.keys))\n",
    "    # Print feature of node\n",
    "    print(\"- Feature of nodes : {}\".format(data['x']))\n",
    "    # For loop like dict.items()\n",
    "    for key, item in data:\n",
    "        print(\"- {} found in data\".format(key))\n",
    "    # Checking whether contains given keys\n",
    "    # Print number of the graph nodes\n",
    "    print(\"- Number of nodes : {}\".format(data.num_nodes))\n",
    "    print(\"- Number of edges : {}\".format(data.num_edges))\n",
    "    # Print number of the node features\n",
    "    print(\"- Number of node features : {}\".format(data.num_node_features))\n",
    "    # Check isolated nodes in the graph given\n",
    "    print(\"- Does the graph contains isolated nodes? : {}\".format(data.contains_isolated_nodes()))\n",
    "    # Check self loop node exists\n",
    "    print(\"- Does the graph contains self-loop nodes? : {}\".format(data.contains_self_loops()))\n",
    "    # Check whether the graph is directed graph of not\n",
    "    print(\"- Is the graph directed ? : {}\".format(data.is_directed()))    \n",
    "\n",
    "summary_torch_geometric_data(data)"
   ]
  },
  {
   "cell_type": "code",
   "execution_count": null,
   "metadata": {},
   "outputs": [],
   "source": []
  },
  {
   "cell_type": "code",
   "execution_count": null,
   "metadata": {},
   "outputs": [],
   "source": []
  }
 ],
 "metadata": {
  "kernelspec": {
   "display_name": "Python 3",
   "language": "python",
   "name": "python3"
  },
  "language_info": {
   "codemirror_mode": {
    "name": "ipython",
    "version": 3
   },
   "file_extension": ".py",
   "mimetype": "text/x-python",
   "name": "python",
   "nbconvert_exporter": "python",
   "pygments_lexer": "ipython3",
   "version": "3.6.9"
  }
 },
 "nbformat": 4,
 "nbformat_minor": 4
}
